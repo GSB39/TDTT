{
 "cells": [
  {
   "cell_type": "code",
   "execution_count": null,
   "id": "807548bd",
   "metadata": {},
   "outputs": [],
   "source": [
    "#Bai1\n",
    "n = int(input())\n",
    "print(2*n)"
   ]
  },
  {
   "cell_type": "code",
   "execution_count": null,
   "id": "9b5535b5",
   "metadata": {},
   "outputs": [],
   "source": [
    "#Bai2\n",
    "a, b = map(int, input().split())\n",
    "r = b / 2\n",
    "s_tron = r*3.14\n",
    "s_vuong = a * b\n",
    "print(round(s_vuong - s_tron, 2))"
   ]
  },
  {
   "cell_type": "code",
   "execution_count": null,
   "id": "3a150b64",
   "metadata": {},
   "outputs": [],
   "source": [
    "#Bai3\n",
    "c = input()\n",
    "if(c.isupper()) :\n",
    "    print(c.lower())\n",
    "else :\n",
    "    print(c.upper())"
   ]
  },
  {
   "cell_type": "code",
   "execution_count": 1,
   "id": "7a50a1a2",
   "metadata": {},
   "outputs": [
    {
     "name": "stdout",
     "output_type": "stream",
     "text": [
      "False\n"
     ]
    }
   ],
   "source": [
    "#Bai4\n",
    "def is_letter(c) :\n",
    "    return ('A' <= c <= 'Z') or ('a' <= c <= 'z')\n",
    "c = input()\n",
    "print(is_letter(c))"
   ]
  },
  {
   "cell_type": "code",
   "execution_count": 3,
   "id": "bf34d283",
   "metadata": {},
   "outputs": [
    {
     "name": "stdout",
     "output_type": "stream",
     "text": [
      "a\n"
     ]
    }
   ],
   "source": [
    "#Bai5\n",
    "c = input()\n",
    "if c == 'A':\n",
    "    print()\n",
    "else:\n",
    "    lower = c.lower()\n",
    "    prev_char = chr(ord(lower) - 1)\n",
    "    print(prev_char)\n"
   ]
  },
  {
   "cell_type": "code",
   "execution_count": 4,
   "id": "efb1d2be",
   "metadata": {},
   "outputs": [
    {
     "name": "stdout",
     "output_type": "stream",
     "text": [
      "Khong phai 3 canh cua tam giac\n"
     ]
    }
   ],
   "source": [
    "import math\n",
    "a, b, c = map(int,input().split())\n",
    "if a + b > c and a + c > b and b + c > a :\n",
    "    p = (a + b + c) / 2\n",
    "    print(round(math.sqrt(p*(p - a)*(p - b)*(p - c)),1))\n",
    "else :\n",
    "    print(\"Khong phai 3 canh cua tam giac\")"
   ]
  },
  {
   "cell_type": "code",
   "execution_count": null,
   "id": "5c6130a5",
   "metadata": {},
   "outputs": [],
   "source": [
    "#Bai7\n",
    "string=input()\n",
    "print(string[4],string[8])"
   ]
  },
  {
   "cell_type": "code",
   "execution_count": null,
   "id": "6eca0965",
   "metadata": {},
   "outputs": [],
   "source": [
    "#Bai8\n",
    "ten = input(\"Ten chu ho: \")\n",
    "chi_so_truoc = int(input(\"Chi so thang truoc: \"))\n",
    "chi_so_nay = int(input(\"Chi so thang nay: \"))\n",
    "so_dien = chi_so_nay - chi_so_truoc\n",
    "if so_dien <= 50:\n",
    "    tien = so_dien * 1984\n",
    "elif so_dien <= 100:\n",
    "    tien = 50 * 1984 + (so_dien - 50) * 2050\n",
    "elif so_dien <= 200:\n",
    "    tien = 50 * 1984 + 50 * 2050 + (so_dien - 100) * 2380\n",
    "elif so_dien <= 300:\n",
    "    tien = 50 * 1984 + 50 * 2050 + 100 * 2380 + (so_dien - 200) * 2998\n",
    "elif so_dien <= 400:\n",
    "    tien = 50 * 1984 + 50 * 2050 + 100 * 2380 + 100 * 2998 + (so_dien - 300) * 3350\n",
    "else:\n",
    "    tien = 50 * 1984 + 50 * 2050 + 100 * 2380 + 100 * 2998 + 100 * 3350 + (so_dien - 400) * 3460\n",
    "tien_phai_tra = round(tien * 1.08)\n",
    "print(\"Ho va ten:\", ten)\n",
    "print(\"Tien phai tra la:\", tien_phai_tra)\n"
   ]
  }
 ],
 "metadata": {
  "kernelspec": {
   "display_name": "Python 3",
   "language": "python",
   "name": "python3"
  },
  "language_info": {
   "codemirror_mode": {
    "name": "ipython",
    "version": 3
   },
   "file_extension": ".py",
   "mimetype": "text/x-python",
   "name": "python",
   "nbconvert_exporter": "python",
   "pygments_lexer": "ipython3",
   "version": "3.13.7"
  }
 },
 "nbformat": 4,
 "nbformat_minor": 5
}
